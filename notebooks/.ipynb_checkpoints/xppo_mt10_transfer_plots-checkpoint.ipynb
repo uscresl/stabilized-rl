{
 "cells": [
  {
   "cell_type": "code",
   "execution_count": null,
   "id": "807a3b47",
   "metadata": {},
   "outputs": [],
   "source": [
    "import argparse\n",
    "import json\n",
    "import logging\n",
    "import pickle\n",
    "import wandb\n",
    "from tqdm import tqdm\n",
    "import matplotlib.pyplot as plt\n",
    "import seaborn as sns\n",
    "import glob\n",
    "import pandas as pd\n",
    "import os\n",
    "import numpy as np\n",
    "import copy"
   ]
  },
  {
   "cell_type": "code",
   "execution_count": null,
   "id": "8f1f4971",
   "metadata": {},
   "outputs": [],
   "source": [
    "import matplotlib\n",
    "matplotlib.rcParams.update(\n",
    "    {\n",
    "        \"figure.dpi\": 150,\n",
    "        \"font.size\": 14,\n",
    "        \"figure.figsize\": (10, 4.8)\n",
    "    }\n",
    ")\n",
    "matplotlib.rcParams[\"pdf.fonttype\"] = 42\n",
    "matplotlib.rcParams[\"ps.fonttype\"] = 42"
   ]
  },
  {
   "cell_type": "code",
   "execution_count": null,
   "id": "cfe24120",
   "metadata": {},
   "outputs": [],
   "source": [
    "plt.rcParamsDefault[\"figure.figsize\"]"
   ]
  },
  {
   "cell_type": "code",
   "execution_count": null,
   "id": "2b0253f0",
   "metadata": {},
   "outputs": [],
   "source": [
    "api = wandb.Api(timeout=200)"
   ]
  },
  {
   "cell_type": "code",
   "execution_count": null,
   "id": "9e490ffd",
   "metadata": {},
   "outputs": [],
   "source": [
    "SMOOTH_WINDOW = 10\n",
    "\n",
    "\n",
    "def smooth(to_smooth, window_size=SMOOTH_WINDOW):\n",
    "    smoothed = []\n",
    "    for idx, val in enumerate(to_smooth):\n",
    "        if idx < window_size:\n",
    "            smoothed.append(np.mean(to_smooth[: idx + 1]))\n",
    "        else:\n",
    "            smoothed.append(np.mean(to_smooth[idx - (SMOOTH_WINDOW - 1) : idx + 1]))\n",
    "\n",
    "    return np.array(smoothed)"
   ]
  },
  {
   "cell_type": "code",
   "execution_count": null,
   "id": "be5290f0",
   "metadata": {},
   "outputs": [],
   "source": [
    "def load_groups(group_and_keys, relabel_dict, x_range, extra_filter):\n",
    "    all_interp_data = []\n",
    "    for group, x_key, y_key in group_and_keys:\n",
    "        runs = api.runs(\n",
    "            path=\"resl-mixppo/stabilized-rl\",\n",
    "            filters={\n",
    "                \"$and\": [\n",
    "                    {\"group\": group},\n",
    "                    {\"$not\": {\"tags\": \"exclude-from-paper\"}},\n",
    "                    extra_filter,\n",
    "                ]\n",
    "            },\n",
    "        )\n",
    "        print(f\"Got {len(runs)} runs for group {group}\")\n",
    "        x_vals = np.linspace(x_range[0], x_range[1], 1000)\n",
    "        for r in tqdm(runs):\n",
    "            # h = r.history(samples=2000, keys=[x_key, y_key])\n",
    "            h = pd.DataFrame(r.scan_history(keys=[x_key, y_key]))\n",
    "            try:\n",
    "                interp_y = np.interp(x_vals, h[x_key], smooth(h[y_key], 30))\n",
    "            except KeyError:\n",
    "                print(\"Could not get keys in run\", r)\n",
    "            else:\n",
    "                env = r.config['env']\n",
    "                all_interp_data.append(\n",
    "                    pd.DataFrame.from_dict(\n",
    "                        {\n",
    "                            relabel_dict.get(x_key, x_key): x_vals,\n",
    "                            relabel_dict.get(y_key, y_key): interp_y,\n",
    "                            relabel_dict.get(\"group\", \"group\"): relabel_dict.get(\n",
    "                                group, group\n",
    "                            ),\n",
    "                            \"run\": str(r),\n",
    "                            relabel_dict.get(\"env\", \"env\"): relabel_dict.get(\n",
    "                                env, env\n",
    "                            ),\n",
    "                        }\n",
    "                    )\n",
    "                )\n",
    "    return pd.concat(all_interp_data, ignore_index=True)"
   ]
  },
  {
   "cell_type": "code",
   "execution_count": null,
   "id": "dd6b3f70",
   "metadata": {},
   "outputs": [],
   "source": [
    "relabels = {\n",
    "    \"xppo-512-5\": \"xPPO\",\n",
    "    \"baseline_ppo\": \"PPO-clip\",\n",
    "    \"xppo10m-512-5\": \"xPPO\",\n",
    "    \"basline_ppo_10m\": \"PPO-clip\",\n",
    "    \"global_step\": \"Total Environment Steps\",\n",
    "    \"rollout/ep_rew_mean\": \"Average Episode Reward\",\n",
    "    \"group\": \"Algorithm\",\n",
    "    'env': \"Environment\",\n",
    "    'rollout/SuccessRate':'Average Success Rate',\n",
    "    'train/std': \"Action Distribution STD\",\n",
    "    \"<SawyerPushEnvV2 instance>\":\"push\",\n",
    "    \"<SawyerWindowCloseEnvV2 instance>\":\"window-close\",\n",
    "    \"<SawyerDoorEnvV2 instance>\":\"door-open\",\n",
    "    \"<SawyerReachEnvV2 instance>\":\"reach\",\n",
    "    \"<SawyerButtonPressTopdownEnvV2 instance>\":\"button-press-topdown\",\n",
    "    \"<SawyerWindowOpenEnvV2 instance>\":\"window-open\",\n",
    "    \"<SawyerDrawerOpenEnvV2 instance>\":\"drawer-open\",\n",
    "    \"<SawyerPegInsertionSideEnvV2 instance>\":\"peg-insert-side\",\n",
    "    \"<SawyerDrawerCloseEnvV2 instance>\":\"drawer-close\",\n",
    "    \"<SawyerPickPlaceEnvV2 instance>\": \"pick-place\",\n",
    "}"
   ]
  },
  {
   "cell_type": "markdown",
   "id": "794ad8a7",
   "metadata": {},
   "source": [
    "## Pick-Place"
   ]
  },
  {
   "cell_type": "code",
   "execution_count": null,
   "id": "5ad7fd85",
   "metadata": {},
   "outputs": [],
   "source": [
    "envs = [\"<SawyerPushEnvV2 instance>\",\n",
    "\"<SawyerWindowCloseEnvV2 instance>\",\n",
    "\"<SawyerDoorEnvV2 instance>\",\n",
    "\"<SawyerReachEnvV2 instance>\",\n",
    "\"<SawyerButtonPressTopdownEnvV2 instance>\",\n",
    "\"<SawyerWindowOpenEnvV2 instance>\",\n",
    "\"<SawyerDrawerOpenEnvV2 instance>\",\n",
    "\"<SawyerPegInsertionSideEnvV2 instance>\",\n",
    "\"<SawyerDrawerCloseEnvV2 instance>\",]\n",
    "env = \"PickPlace-V2\"\n",
    "group_and_keys = [\n",
    "    (\"xppo_transfer_exp\", \"global_step\",  \"rollout/SuccessRate\"),\n",
    "]\n",
    "\n",
    "extra_filter = {\"tags\": {\"$in\": ['xppo_transfer_from_pick-place']}}\n",
    "all_data = load_groups(\n",
    "    group_and_keys,\n",
    "    relabels,\n",
    "    (0, 7e6),\n",
    "    extra_filter\n",
    ")"
   ]
  },
  {
   "cell_type": "code",
   "execution_count": null,
   "id": "38f738c8",
   "metadata": {},
   "outputs": [],
   "source": [
    "sns.lineplot(\n",
    "    data=all_data,\n",
    "    x=\"Total Environment Steps\",\n",
    "    y=\"Average Success Rate\",\n",
    "    hue=\"Environment\",\n",
    "    ci=95,\n",
    "    # style=\"Environment\",\n",
    "    # palette=\"viridis\",\n",
    ")\n",
    "# plt.legend(loc=\"lower right\")\n",
    "plt.legend(loc='upper left', bbox_to_anchor=(0.94, 1),\n",
    "          ncol=1, fancybox=True, shadow=True, fontsize=9)\n",
    "plt.tight_layout()\n",
    "plt.savefig(f\"XPPO_transfer_from_{env}.pdf\")\n"
   ]
  },
  {
   "cell_type": "markdown",
   "id": "dbde209c",
   "metadata": {},
   "source": [
    "## Window Open"
   ]
  },
  {
   "cell_type": "code",
   "execution_count": null,
   "id": "dffb4314",
   "metadata": {},
   "outputs": [],
   "source": [
    "envs = [\"<SawyerPushEnvV2 instance>\",\n",
    "\"<SawyerWindowCloseEnvV2 instance>\",\n",
    "\"<SawyerDoorEnvV2 instance>\",\n",
    "\"<SawyerReachEnvV2 instance>\",\n",
    "\"<SawyerButtonPressTopdownEnvV2 instance>\",\n",
    "\"<SawyerWindowOpenEnvV2 instance>\",\n",
    "\"<SawyerDrawerOpenEnvV2 instance>\",\n",
    "\"<SawyerPegInsertionSideEnvV2 instance>\",\n",
    "\"<SawyerDrawerCloseEnvV2 instance>\",]\n",
    "env = \"WindowOpen-V2\"\n",
    "group_and_keys = [\n",
    "    (\"xppo_transfer_exp_window_open\", \"global_step\",  \"rollout/SuccessRate\"),\n",
    "]\n",
    "\n",
    "extra_filter = {\"tags\": {\"$in\": ['xppo_transfer_from_window_open']}, \"$or\": [{\"state\": \"finished\"}, {\"state\": \"running\"}]}\n",
    "all_data = load_groups(\n",
    "    group_and_keys,\n",
    "    relabels,\n",
    "    (0, 7e6),\n",
    "    extra_filter\n",
    ")"
   ]
  },
  {
   "cell_type": "code",
   "execution_count": null,
   "id": "e9bff345",
   "metadata": {},
   "outputs": [],
   "source": [
    "sns.lineplot(\n",
    "    data=all_data,\n",
    "    x=\"Total Environment Steps\",\n",
    "    y=\"Average Success Rate\",\n",
    "    hue=\"Environment\",\n",
    "    ci=95,\n",
    "    # style=\"Environment\",\n",
    "    # palette=\"viridis\",\n",
    ")\n",
    "# plt.legend(loc=\"lower right\")\n",
    "plt.legend(loc='upper left', bbox_to_anchor=(0.94, 1),\n",
    "          ncol=1, fancybox=True, shadow=True, fontsize=9)\n",
    "plt.tight_layout()\n",
    "plt.savefig(f\"XPPO_transfer_from_{env}.pdf\")\n"
   ]
  }
 ],
 "metadata": {
  "kernelspec": {
   "display_name": "Python 3 (ipykernel)",
   "language": "python",
   "name": "python3"
  },
  "language_info": {
   "codemirror_mode": {
    "name": "ipython",
    "version": 3
   },
   "file_extension": ".py",
   "mimetype": "text/x-python",
   "name": "python",
   "nbconvert_exporter": "python",
   "pygments_lexer": "ipython3",
   "version": "3.9.5"
  }
 },
 "nbformat": 4,
 "nbformat_minor": 5
}
