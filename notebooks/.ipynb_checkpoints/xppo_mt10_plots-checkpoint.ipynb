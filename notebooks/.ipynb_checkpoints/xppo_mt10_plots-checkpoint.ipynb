{
 "cells": [
  {
   "cell_type": "code",
   "execution_count": null,
   "id": "807a3b47",
   "metadata": {},
   "outputs": [],
   "source": [
    "import argparse\n",
    "import json\n",
    "import logging\n",
    "import pickle\n",
    "import wandb\n",
    "\n",
    "import matplotlib.pyplot as plt\n",
    "import seaborn as sns\n",
    "import glob\n",
    "import pandas as pd\n",
    "import os\n",
    "import numpy as np\n",
    "import copy"
   ]
  },
  {
   "cell_type": "code",
   "execution_count": null,
   "id": "41e642e5",
   "metadata": {},
   "outputs": [],
   "source": [
    "import matplotlib\n",
    "matplotlib.rcParams.update(\n",
    "    {\n",
    "        \"figure.dpi\": 150,\n",
    "        \"font.size\": 20,\n",
    "    }\n",
    ")\n",
    "matplotlib.rcParams[\"pdf.fonttype\"] = 42\n",
    "matplotlib.rcParams[\"ps.fonttype\"] = 42"
   ]
  },
  {
   "cell_type": "code",
   "execution_count": null,
   "id": "2b0253f0",
   "metadata": {},
   "outputs": [],
   "source": [
    "api = wandb.Api(timeout=200)"
   ]
  },
  {
   "cell_type": "code",
   "execution_count": null,
   "id": "b972f0ac",
   "metadata": {},
   "outputs": [],
   "source": [
    "relabels = {\n",
    "    \"xppo-512-5\": \"xPPO\",\n",
    "    \"baseline_ppo\": \"PPO-clip\",\n",
    "    \"xppo10m-512-5\": \"xPPO\",\n",
    "    \"basline_ppo_10m\": \"PPO-clip\",\n",
    "    \"xppo_single_step_4096\": \"xPPO\",\n",
    "    \"basline_stbl_ppo\": \"PPO-clip\",\n",
    "    'xppo_single_step_large_historic': \"xPPO $|D_{h}|=128000$\",\n",
    "    \"xppo_single_step_no_historic\": \"xPPO $|D_{h}|=4096$\",\n",
    "    \"global_step\": \"Total Environment Steps\",\n",
    "    \"rollout/ep_rew_mean\": \"Average Episode Reward\",\n",
    "    \"group\": \"Algorithm\",\n",
    "    'env': \"Environment\",\n",
    "    'rollout/SuccessRate':'Average Success Rate',\n",
    "    'train/std': \"Action Distribution STD\",\n",
    "    \"<SawyerPushEnvV2 instance>\":\"push\",\n",
    "    \"<SawyerWindowCloseEnvV2 instance>\":\"window-close\",\n",
    "    \"<SawyerDoorEnvV2 instance>\":\"door-open\",\n",
    "    \"<SawyerReachEnvV2 instance>\":\"reach\",\n",
    "    \"<SawyerButtonPressTopdownEnvV2 instance>\":\"button-press-topdown\",\n",
    "    \"<SawyerWindowOpenEnvV2 instance>\":\"window-open\",\n",
    "    \"<SawyerDrawerOpenEnvV2 instance>\":\"drawer-open\",\n",
    "    \"<SawyerPegInsertionSideEnvV2 instance>\":\"peg-insert-side\",\n",
    "    \"<SawyerDrawerCloseEnvV2 instance>\":\"drawer-close\",\n",
    "    \"train/explained_variance\": \"Explained Variance\",\n",
    "}\n",
    "envs = [\"<SawyerPushEnvV2 instance>\",\n",
    "\"<SawyerWindowCloseEnvV2 instance>\",\n",
    "\"<SawyerDoorEnvV2 instance>\",\n",
    "\"<SawyerReachEnvV2 instance>\",\n",
    "\"<SawyerButtonPressTopdownEnvV2 instance>\",\n",
    "\"<SawyerPickPlaceEnvV2 instance>\",\n",
    "\"<SawyerWindowOpenEnvV2 instance>\",\n",
    "\"<SawyerDrawerOpenEnvV2 instance>\",\n",
    "\"<SawyerPegInsertionSideEnvV2 instance>\",\n",
    "\"<SawyerDrawerCloseEnvV2 instance>\",]"
   ]
  },
  {
   "cell_type": "code",
   "execution_count": null,
   "id": "be5290f0",
   "metadata": {},
   "outputs": [],
   "source": [
    "def load_groups(group_and_keys, relabel_dict, x_range, extra_filter):\n",
    "    all_interp_data = []\n",
    "    for group, x_key, y_key in group_and_keys:\n",
    "        runs = api.runs(\n",
    "            path=\"resl-mixppo/stabilized-rl\",\n",
    "            filters={\n",
    "                \"$and\": [\n",
    "                    {\"group\": group},\n",
    "                    {\"$not\": {\"tags\": \"exclude-from-paper\"}},\n",
    "                    extra_filter,\n",
    "                ]\n",
    "            },\n",
    "        )\n",
    "        print(f\"Got {len(runs)} runs for group {group}\")\n",
    "        x_vals = np.linspace(x_range[0], x_range[1], 1000)\n",
    "        skipped = 0\n",
    "        for r in runs:\n",
    "            # h = r.history(samples=2000, keys=[x_key, y_key])\n",
    "            h = pd.DataFrame(r.scan_history(keys=[x_key, y_key]))\n",
    "            try:\n",
    "                if np.max(h[x_key]) < 0.9 * x_range[1]:\n",
    "                    print(\"Maximum x value of run\", str(r), \"is\", np.max(h[x_key]))\n",
    "                    skipped += 1\n",
    "                    continue\n",
    "                interp_y = np.interp(x_vals, h[x_key], h[y_key])\n",
    "            except KeyError:\n",
    "                print(\"Could not get keys in run\", r)\n",
    "                print(h)\n",
    "            else:\n",
    "                all_interp_data.append(\n",
    "                    pd.DataFrame.from_dict(\n",
    "                        {\n",
    "                            relabel_dict.get(x_key, x_key): x_vals,\n",
    "                            relabel_dict.get(y_key, y_key): interp_y,\n",
    "                            relabel_dict.get(\"group\", \"group\"): relabel_dict.get(\n",
    "                                group, group\n",
    "                            ),\n",
    "                            \"run\": str(r),\n",
    "                        }\n",
    "                    )\n",
    "                )\n",
    "        print(\"Group\", group, \"had\", len(runs) - skipped, \"good runs\")\n",
    "    return pd.concat(all_interp_data, ignore_index=True)"
   ]
  },
  {
   "cell_type": "markdown",
   "id": "794ad8a7",
   "metadata": {},
   "source": [
    "## Pick-Place"
   ]
  },
  {
   "cell_type": "code",
   "execution_count": null,
   "id": "5ad7fd85",
   "metadata": {},
   "outputs": [],
   "source": [
    "env = \"PickPlace-V2\"\n",
    "env = \"PickPlace-V2\"\n",
    "config_env = \"<SawyerPickPlaceEnvV2 instance>\"\n",
    "total_steps=10e6\n",
    "group_and_keys = [\n",
    "    (\"xppo_single_step_4096\", \"global_step\",  \"rollout/SuccessRate\"),\n",
    "    (\"basline_stbl_ppo\", 'global_step', \"rollout/SuccessRate\")\n",
    "]\n",
    "state_filter = {\"$or\": [{\"state\": \"finished\"}, {\"state\": \"running\"}]}\n",
    "env_filter = {\"config.env\":config_env}\n",
    "# extra_filter = {\"tags\": {\"$in\": [\"xppo_pick-place\", 'stbl_ppo_pick-place_baseline']}}\n",
    "# state_env_filter = {\"$and\": [state_filter, env_filter]}\n",
    "state_env_filter = {\"$and\": [env_filter]}\n",
    "\n",
    "\n",
    "baseline_n_steps_filter = {\"$and\":[{'config.n_steps': 50_000}, {'group':'basline_stbl_ppo'}, state_env_filter]}\n",
    "\n",
    "extra_filter = {\"$or\": [env_filter, baseline_n_steps_filter]}\n",
    "all_data = load_groups(\n",
    "    group_and_keys,\n",
    "    relabels,\n",
    "    (0, total_steps),\n",
    "    extra_filter\n",
    ")"
   ]
  },
  {
   "cell_type": "code",
   "execution_count": null,
   "id": "38f738c8",
   "metadata": {},
   "outputs": [],
   "source": [
    "sns.lineplot(\n",
    "    data=all_data,\n",
    "    x=\"Total Environment Steps\",\n",
    "    y=\"Average Success Rate\",\n",
    "    hue=\"Algorithm\",\n",
    "    ci=95,\n",
    "    style=\"Algorithm\",\n",
    "    palette=\"viridis\",\n",
    ")\n",
    "plt.legend(loc=\"lower right\")\n",
    "plt.tight_layout()\n",
    "\n",
    "plt.savefig(f\"XPPO_vs_ppo_{env}.pdf\")"
   ]
  },
  {
   "cell_type": "markdown",
   "id": "f7c234b2",
   "metadata": {},
   "source": [
    "## Window-Open"
   ]
  },
  {
   "cell_type": "code",
   "execution_count": null,
   "id": "07ed33bc",
   "metadata": {},
   "outputs": [],
   "source": [
    "env = \"WindowOpen-V2\"\n",
    "config_env=\"<SawyerWindowOpenEnvV2 instance>\"\n",
    "total_steps=5e6\n",
    "\n",
    "group_and_keys = [\n",
    "    (\"xppo_single_step_4096\", \"global_step\",  \"rollout/SuccessRate\"),\n",
    "    (\"basline_stbl_ppo\", 'global_step', \"rollout/SuccessRate\")\n",
    "]\n",
    "\n",
    "state_filter = {\"$or\": [{\"state\": \"finished\"}, {\"state\": \"running\"}]}\n",
    "env_filter = {\"config.env\":config_env}\n",
    "# extra_filter = {\"tags\": {\"$in\": [\"xppo_pick-place\", 'stbl_ppo_pick-place_baseline']}}\n",
    "state_env_filter = {\"$and\": [state_filter, env_filter]}\n",
    "\n",
    "baseline_n_steps_filter = {\"$and\":[{'config.n_steps': 50_000}, {'group':'basline_stbl_ppo'}, env_filter]}\n",
    "\n",
    "extra_filter = {\"$or\": [env_filter, baseline_n_steps_filter]}\n",
    "all_data = load_groups(\n",
    "    group_and_keys,\n",
    "    relabels,\n",
    "    (0, total_steps),\n",
    "    extra_filter\n",
    ")"
   ]
  },
  {
   "cell_type": "code",
   "execution_count": null,
   "id": "b579a4a4",
   "metadata": {},
   "outputs": [],
   "source": [
    "sns.lineplot(\n",
    "    data=all_data,\n",
    "    x=\"Total Environment Steps\",\n",
    "    y=\"Average Success Rate\",\n",
    "    hue=\"Algorithm\",\n",
    "    ci=95,\n",
    "    style=\"Algorithm\",\n",
    "    palette=\"viridis\",\n",
    ")\n",
    "plt.legend(loc=\"lower right\")\n",
    "\n",
    "plt.tight_layout()\n",
    "plt.tight_layout()\n",
    "\n",
    "plt.savefig(f\"XPPO_vs_ppo_{env}.pdf\")"
   ]
  },
  {
   "cell_type": "markdown",
   "id": "ab5afe14",
   "metadata": {},
   "source": [
    "## Reach"
   ]
  },
  {
   "cell_type": "code",
   "execution_count": null,
   "id": "19573e93",
   "metadata": {},
   "outputs": [],
   "source": [
    "env = \"Reach-V2\"\n",
    "config_env=\"<SawyerReachEnvV2 instance>\"\n",
    "total_steps=1e6\n",
    "\n",
    "group_and_keys = [\n",
    "    (\"xppo_single_step_4096\", \"global_step\",  \"rollout/SuccessRate\"),\n",
    "    (\"basline_stbl_ppo\", 'global_step', \"rollout/SuccessRate\")\n",
    "]\n",
    "\n",
    "state_filter = {\"$or\": [{\"state\": \"finished\"}, {\"state\": \"running\"}]}\n",
    "env_filter = {\"config.env\":config_env}\n",
    "# extra_filter = {\"tags\": {\"$in\": [\"xppo_pick-place\", 'stbl_ppo_pick-place_baseline']}}\n",
    "state_env_filter = {\"$and\": [state_filter, env_filter]}\n",
    "\n",
    "baseline_n_steps_filter = {\"$and\":[{'config.n_steps': 50_000}, {'group':'basline_stbl_ppo'}, env_filter]}\n",
    "\n",
    "extra_filter = {\"$or\": [env_filter, baseline_n_steps_filter]}\n",
    "all_data = load_groups(\n",
    "    group_and_keys,\n",
    "    relabels,\n",
    "    (0, total_steps),\n",
    "    extra_filter\n",
    ")"
   ]
  },
  {
   "cell_type": "code",
   "execution_count": null,
   "id": "0e9a4675",
   "metadata": {},
   "outputs": [],
   "source": [
    "sns.lineplot(\n",
    "    data=all_data,\n",
    "    x=\"Total Environment Steps\",\n",
    "    y=\"Average Success Rate\",\n",
    "    hue=\"Algorithm\",\n",
    "    ci=95,\n",
    "    style=\"Algorithm\",\n",
    "    palette=\"viridis\",\n",
    ")\n",
    "plt.legend(loc=\"lower right\")\n",
    "plt.tight_layout()\n",
    "plt.savefig(f\"XPPO_{env}.pdf\")"
   ]
  },
  {
   "cell_type": "code",
   "execution_count": null,
   "id": "1dc2f39a",
   "metadata": {},
   "outputs": [],
   "source": [
    "runs = list(api.runs(\n",
    "            path=\"resl-mixppo/stabilized-rl\",\n",
    "            filters={\n",
    "                \"$and\": [\n",
    "                    {\"state\": \"running\"},\n",
    "#                     {\"$not\": { \"hostname\": \"stygian\" }},\n",
    "#                     {\"system/proc.memory.rssMB\": { \"$gt\": 1999 } },\n",
    "                ]\n",
    "            },\n",
    "        ))"
   ]
  },
  {
   "cell_type": "code",
   "execution_count": null,
   "id": "4a9adbae",
   "metadata": {},
   "outputs": [],
   "source": [
    "for r in runs:\n",
    "    last_timestamp = r.history(keys=[\"_timestamp\"])[\"_timestamp\"].max()\n",
    "    if last_timestamp < time.time() - 10 * 60:\n",
    "        print(r.to_html())"
   ]
  },
  {
   "cell_type": "code",
   "execution_count": null,
   "id": "5a3924a1",
   "metadata": {},
   "outputs": [],
   "source": [
    "import time"
   ]
  },
  {
   "cell_type": "code",
   "execution_count": null,
   "id": "3e9ad47f",
   "metadata": {},
   "outputs": [],
   "source": [
    "time.time()"
   ]
  },
  {
   "cell_type": "code",
   "execution_count": null,
   "id": "61e7f51f",
   "metadata": {},
   "outputs": [],
   "source": [
    "time.time()"
   ]
  },
  {
   "cell_type": "code",
   "execution_count": null,
   "id": "aeb10984",
   "metadata": {},
   "outputs": [],
   "source": [
    "r.display()"
   ]
  },
  {
   "cell_type": "code",
   "execution_count": null,
   "id": "f5e8315e",
   "metadata": {},
   "outputs": [],
   "source": [
    "r.history()"
   ]
  },
  {
   "cell_type": "code",
   "execution_count": null,
   "id": "7da99c6f",
   "metadata": {},
   "outputs": [],
   "source": [
    "env = \"Reach-V2\"\n",
    "config_env=\"<SawyerReachEnvV2 instance>\"\n",
    "total_steps=1e6\n",
    "\n",
    "group_and_keys = [\n",
    "    (\"xppo_single_step_4096\", \"global_step\",  \"train/explained_variance\"),\n",
    "    (\"basline_stbl_ppo\", 'global_step', \"train/explained_variance\")\n",
    "]\n",
    "\n",
    "state_filter = {\"$or\": [{\"state\": \"finished\"}, {\"state\": \"running\"}]}\n",
    "env_filter = {\"config.env\":config_env}\n",
    "# extra_filter = {\"tags\": {\"$in\": [\"xppo_pick-place\", 'stbl_ppo_pick-place_baseline']}}\n",
    "state_env_filter = {\"$and\": [state_filter, env_filter]}\n",
    "\n",
    "baseline_n_steps_filter = {\"$and\":[{'config.n_steps': 50_000}, {'group':'basline_stbl_ppo'}, env_filter]}\n",
    "\n",
    "extra_filter = {\"$or\": [env_filter, baseline_n_steps_filter]}\n",
    "all_data = load_groups(\n",
    "    group_and_keys,\n",
    "    relabels,\n",
    "    (0, total_steps),\n",
    "    extra_filter\n",
    ")"
   ]
  },
  {
   "cell_type": "code",
   "execution_count": null,
   "id": "51e66273",
   "metadata": {},
   "outputs": [],
   "source": [
    "matplotlib.rcParams[\"font.size\"] = 18\n",
    "sns.lineplot(\n",
    "    data=all_data,\n",
    "    x=\"Total Environment Steps\",\n",
    "    y=\"Explained Variance\",\n",
    "    hue=\"Algorithm\",\n",
    "    ci=95,\n",
    "    style=\"Algorithm\",\n",
    "    palette=\"viridis\",\n",
    ")\n",
    "plt.legend(loc=\"lower right\")\n",
    "plt.tight_layout()\n",
    "plt.savefig(f\"XPPO_vs_PPO_explained_variance_{env}.pdf\")"
   ]
  },
  {
   "cell_type": "code",
   "execution_count": null,
   "id": "c9a6583a",
   "metadata": {},
   "outputs": [],
   "source": []
  }
 ],
 "metadata": {
  "kernelspec": {
   "display_name": "Python 3 (ipykernel)",
   "language": "python",
   "name": "python3"
  },
  "language_info": {
   "codemirror_mode": {
    "name": "ipython",
    "version": 3
   },
   "file_extension": ".py",
   "mimetype": "text/x-python",
   "name": "python",
   "nbconvert_exporter": "python",
   "pygments_lexer": "ipython3",
   "version": "3.9.5"
  }
 },
 "nbformat": 4,
 "nbformat_minor": 5
}
