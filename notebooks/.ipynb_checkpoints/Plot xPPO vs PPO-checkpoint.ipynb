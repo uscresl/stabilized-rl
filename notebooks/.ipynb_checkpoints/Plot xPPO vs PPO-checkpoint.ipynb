{
 "cells": [
  {
   "cell_type": "code",
   "execution_count": null,
   "id": "eb861fe5",
   "metadata": {},
   "outputs": [],
   "source": [
    "import argparse\n",
    "import json\n",
    "import logging\n",
    "import pickle\n",
    "import wandb\n",
    "\n",
    "import matplotlib.pyplot as plt\n",
    "import seaborn as sns\n",
    "import glob\n",
    "import pandas as pd\n",
    "import os\n",
    "import numpy as np\n",
    "import copy"
   ]
  },
  {
   "cell_type": "code",
   "execution_count": null,
   "id": "94d2f90a",
   "metadata": {},
   "outputs": [],
   "source": [
    "api = wandb.Api()"
   ]
  },
  {
   "cell_type": "code",
   "execution_count": null,
   "id": "6b881d6f",
   "metadata": {},
   "outputs": [],
   "source": [
    "def load_groups(group_and_keys, relabel_dict, x_range, extra_filter):\n",
    "    all_interp_data = []\n",
    "    for group, x_key, y_key in group_and_keys:\n",
    "        runs = api.runs(path='resl-mixppo/stabilized-rl', filters={\n",
    "            \"$and\": [\n",
    "                {'group': group},\n",
    "                {\"$not\": {'tags': 'exclude-from-paper'}},\n",
    "                extra_filter\n",
    "            ]\n",
    "        })\n",
    "        print(f\"Got {len(runs)} runs for group {group}\")\n",
    "        data = [r.history(samples=2000, keys=[x_key, y_key]) for r in runs]\n",
    "        x_vals = np.linspace(x_range[0], x_range[1], 1000)\n",
    "        for r in runs:\n",
    "            h = r.history(samples=2000)\n",
    "            try:\n",
    "                interp_y = np.interp(x_vals, h[x_key], h[y_key])   \n",
    "            except KeyError:\n",
    "                print(\"Could not get keys in run\", r)\n",
    "                print(h)\n",
    "            else:\n",
    "                all_interp_data.append(pd.DataFrame.from_dict({\n",
    "                    relabel_dict.get(x_key, x_key): x_vals,\n",
    "                    relabel_dict.get(y_key, y_key): interp_y,\n",
    "                    relabel_dict.get(\"group\", \"group\"): relabel_dict.get(group, group),\n",
    "                }))\n",
    "    return pd.concat(all_interp_data, ignore_index=True)"
   ]
  },
  {
   "cell_type": "code",
   "execution_count": null,
   "id": "3166b934",
   "metadata": {},
   "outputs": [],
   "source": [
    "env = \"HalfCheetah-v2\"\n",
    "group_and_keys = [('xppo-512-5', 'global_step', 'rollout/ep_rew_mean'),\n",
    "                        ('baseline_ppo', 'global_step', 'rollout/ep_rew_mean')]\n",
    "relabels = {'xppo-512-5': 'xPPO', 'baseline_ppo': 'PPO-clip', 'global_step': 'Total Environment Steps',\n",
    "                        'rollout/ep_rew_mean': 'Average Episode Reward', 'group': 'Algorithm'}\n",
    "all_data = load_groups(group_and_keys,\n",
    "                       relabels,\n",
    "                       (0, 3e6),\n",
    "                      {\"$and\": [\n",
    "                          {'config.env': env},\n",
    "                          {\"$or\": [\n",
    "                              {'state': 'finished'},\n",
    "                              {'state': 'running'}\n",
    "                          ]}\n",
    "                      ]})"
   ]
  },
  {
   "cell_type": "code",
   "execution_count": null,
   "id": "ae1ebb13",
   "metadata": {},
   "outputs": [],
   "source": [
    "sns.lineplot(data=all_data, x=\"Total Environment Steps\", y=\"Average Episode Reward\", hue=\"Algorithm\", ci=95, style=\"Algorithm\")\n",
    "plt.legend(loc='lower right')\n",
    "plt.savefig(f'xppo_vs_ppo_{env}.pdf')"
   ]
  },
  {
   "cell_type": "code",
   "execution_count": null,
   "id": "5a4c8c89",
   "metadata": {},
   "outputs": [],
   "source": [
    "env = \"Hopper-v2\"\n",
    "all_data = load_groups(group_and_keys,\n",
    "                       relabels,\n",
    "                       (0, 3e6),\n",
    "                      {\"$and\": [\n",
    "                          {'config.env': env},\n",
    "                          {\"$or\": [\n",
    "                              {'state': 'finished'},\n",
    "                              {'state': 'running'}\n",
    "                          ]}\n",
    "                      ]})\n",
    "sns.lineplot(data=all_data, x=\"Total Environment Steps\", y=\"Average Episode Reward\", hue=\"Algorithm\", ci=95, style=\"Algorithm\")\n",
    "plt.legend(loc='lower right')\n",
    "plt.savefig(f'xppo_vs_ppo_{env}.pdf')"
   ]
  },
  {
   "cell_type": "code",
   "execution_count": null,
   "id": "8f48a0c4",
   "metadata": {},
   "outputs": [],
   "source": [
    "env = \"Walker2d-v2\"\n",
    "all_data = load_groups(group_and_keys,\n",
    "                       relabels,\n",
    "                       (0, 3e6),\n",
    "                      {\"$and\": [\n",
    "                          {'config.env': env},\n",
    "                          {\"$or\": [\n",
    "                              {'state': 'finished'},\n",
    "                              {'state': 'running'}\n",
    "                          ]}\n",
    "                      ]})\n",
    "sns.lineplot(data=all_data, x=\"Total Environment Steps\", y=\"Average Episode Reward\", hue=\"Algorithm\", ci=95, style=\"Algorithm\")\n",
    "plt.legend(loc='lower right')\n",
    "plt.savefig(f'xppo_vs_ppo_{env}.pdf')"
   ]
  },
  {
   "cell_type": "code",
   "execution_count": null,
   "id": "511cf916",
   "metadata": {},
   "outputs": [],
   "source": []
  }
 ],
 "metadata": {
  "kernelspec": {
   "display_name": "Python 3 (ipykernel)",
   "language": "python",
   "name": "python3"
  },
  "language_info": {
   "codemirror_mode": {
    "name": "ipython",
    "version": 3
   },
   "file_extension": ".py",
   "mimetype": "text/x-python",
   "name": "python",
   "nbconvert_exporter": "python",
   "pygments_lexer": "ipython3",
   "version": "3.9.5"
  }
 },
 "nbformat": 4,
 "nbformat_minor": 5
}
