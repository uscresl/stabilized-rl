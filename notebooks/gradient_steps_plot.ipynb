{
 "cells": [
  {
   "cell_type": "code",
   "execution_count": null,
   "id": "2d7c8397",
   "metadata": {},
   "outputs": [],
   "source": [
    "import argparse\n",
    "import json\n",
    "import logging\n",
    "import pickle\n",
    "import wandb\n",
    "\n",
    "import matplotlib.pyplot as plt\n",
    "import seaborn as sns\n",
    "import glob\n",
    "import pandas as pd\n",
    "import os\n",
    "import numpy as np\n",
    "import copy"
   ]
  },
  {
   "cell_type": "code",
   "execution_count": null,
   "id": "d3ebbdd6",
   "metadata": {},
   "outputs": [],
   "source": [
    "import matplotlib\n",
    "matplotlib.rcParams.update(\n",
    "    {\n",
    "        \"figure.dpi\": 150,\n",
    "        \"font.size\": 14,\n",
    "    }\n",
    ")\n",
    "matplotlib.rcParams[\"pdf.fonttype\"] = 42\n",
    "matplotlib.rcParams[\"ps.fonttype\"] = 42"
   ]
  },
  {
   "cell_type": "code",
   "execution_count": null,
   "id": "12e45a44",
   "metadata": {},
   "outputs": [],
   "source": [
    "data_path = \"../debug_data3\""
   ]
  },
  {
   "cell_type": "code",
   "execution_count": null,
   "id": "091b881e",
   "metadata": {},
   "outputs": [],
   "source": [
    "data_files = sorted(glob.glob(f'{data_path}/*.pkl')); data_files"
   ]
  },
  {
   "cell_type": "code",
   "execution_count": null,
   "id": "1e54db9e",
   "metadata": {},
   "outputs": [],
   "source": [
    "step = 14 # len(data_files)\n",
    "with open(f\"{data_path}/step_{step}.pkl\", \"rb\") as f:\n",
    "    debug_data = pickle.load(f)"
   ]
  },
  {
   "cell_type": "code",
   "execution_count": null,
   "id": "88266fab",
   "metadata": {},
   "outputs": [],
   "source": [
    "fig, ax1 = plt.subplots()\n",
    "color = 'tab:red'\n",
    "ax1.set_xlabel('Gradient Steps')\n",
    "ax1.set_ylabel('Max KL Divergence', color=color)\n",
    "ax1.plot(debug_data['full_max_kl_divs'] + [0.196], color=color)\n",
    "ax1.tick_params(axis='y', labelcolor=color)\n",
    "#ax1.set_aspect(2)\n",
    "ax2 = ax1.twinx()  # instantiate a second axes that shares the same x-axis\n",
    "\n",
    "color = 'tab:blue'\n",
    "ax2.set_ylabel(r'$\\beta$', color=color)  # we already handled the x-label with ax1\n",
    "ax2.plot(debug_data['kl_loss_coeffs'][1:], color=color)\n",
    "ax2.tick_params(axis='y', labelcolor=color)\n",
    "\n",
    "grad_step = 0\n",
    "for epoch in range(len(debug_data['first_loop_minibatches'])):\n",
    "    grad_step += debug_data['first_loop_minibatches'][epoch]\n",
    "    ax1.axvspan(grad_step, grad_step + debug_data['second_loop_backwards'][epoch], alpha=0.25, color=\"green\")\n",
    "    grad_step += debug_data['second_loop_backwards'][epoch]\n",
    "ax1.hlines(0.2, xmin=0, xmax=grad_step, color=\"gray\", linestyles=\"dashed\")\n",
    "#ax1.vlines(len(debug_data['full_max_kl_divs']) - debug_data['second_loop_minibatches'][0], ymin=0, ymax=0.2, color=\"green\")\n",
    "# ax1.set_aspect(1.5)\n",
    "# ax2.set_aspect(1.5)\n",
    "fig.tight_layout()  # otherwise the right y-label is slightly clipped\n",
    "plt.savefig(\"gradient_steps_plot_Walker2d.pdf\")\n",
    "plt.show()"
   ]
  },
  {
   "cell_type": "code",
   "execution_count": null,
   "id": "8851398f",
   "metadata": {},
   "outputs": [],
   "source": [
    "good_steps = [14]"
   ]
  },
  {
   "cell_type": "code",
   "execution_count": null,
   "id": "edbef7f4",
   "metadata": {},
   "outputs": [],
   "source": []
  }
 ],
 "metadata": {
  "kernelspec": {
   "display_name": "Python 3 (ipykernel)",
   "language": "python",
   "name": "python3"
  },
  "language_info": {
   "codemirror_mode": {
    "name": "ipython",
    "version": 3
   },
   "file_extension": ".py",
   "mimetype": "text/x-python",
   "name": "python",
   "nbconvert_exporter": "python",
   "pygments_lexer": "ipython3",
   "version": "3.9.5"
  }
 },
 "nbformat": 4,
 "nbformat_minor": 5
}
